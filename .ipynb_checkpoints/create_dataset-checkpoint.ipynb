{
 "cells": [
  {
   "cell_type": "code",
   "execution_count": null,
   "id": "1ff2fe05",
   "metadata": {},
   "outputs": [],
   "source": [
    "import numpy as np\n",
    "import pandas as pd\n",
    "import os\n",
    "\n",
    "# Generating a more realistic temperature dataset for a location with a temperate climate\n",
    "# For example, using a climate model similar to New York City\n",
    "\n",
    "# Adjusting parameters to reflect realistic seasonal temperature variation\n",
    "days = np.arange(1, 366)\n",
    "winter_mean = -5  # Mean temperature in winter months (Celsius)\n",
    "summer_mean = 25  # Mean temperature in summer months (Celsius)\n",
    "spring_fall_mean = 10  # Mean temperature in spring and fall (Celsius)\n",
    "\n",
    "# Generating temperature data\n",
    "temperatures = (\n",
    "    10 * np.sin(2 * np.pi * (days - 80) / 365) +  # Seasonal trend\n",
    "    np.where(days <= 59, np.random.normal(winter_mean, 3, size=365),  # Winter (Jan, Feb)\n",
    "    np.where((days >= 60) & (days <= 151), np.random.normal(spring_fall_mean, 5, size=365),  # Spring (Mar, Apr, May)\n",
    "    np.where((days >= 152) & (days <= 243), np.random.normal(summer_mean, 3, size=365),  # Summer (Jun, Jul, Aug)\n",
    "    np.where((days >= 244) & (days <= 334), np.random.normal(spring_fall_mean, 5, size=365),  # Fall (Sep, Oct, Nov)\n",
    "    np.random.normal(winter_mean, 3, size=365)))))  # Winter (Dec)\n",
    ")\n",
    "\n",
    "# Creating the DataFrame\n",
    "realistic_temperature_data = pd.DataFrame({\n",
    "    'Day': days,\n",
    "    'Average_Temperature': temperatures\n",
    "})\n",
    "\n",
    "# formiramo putanju do fajla\n",
    "current_dir = os.getcwd()\n",
    "\n",
    "file_name = 'data/average_daily_temperatures.csv'\n",
    "file_path = os.path.join(current_dir, file_name)\n",
    "\n",
    "realistic_temperature_data.to_csv(file_path, index=False)"
   ]
  }
 ],
 "metadata": {
  "kernelspec": {
   "display_name": "Python 3 (ipykernel)",
   "language": "python",
   "name": "python3"
  },
  "language_info": {
   "codemirror_mode": {
    "name": "ipython",
    "version": 3
   },
   "file_extension": ".py",
   "mimetype": "text/x-python",
   "name": "python",
   "nbconvert_exporter": "python",
   "pygments_lexer": "ipython3",
   "version": "3.8.10"
  }
 },
 "nbformat": 4,
 "nbformat_minor": 5
}
