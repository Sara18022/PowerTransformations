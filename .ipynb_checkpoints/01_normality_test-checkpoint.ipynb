{
 "cells": [
  {
   "cell_type": "markdown",
   "id": "6c4885ce",
   "metadata": {},
   "source": [
    "# Test normalnosti i Box-Cox transformacija"
   ]
  },
  {
   "cell_type": "markdown",
   "id": "25c20d1c",
   "metadata": {},
   "source": [
    "Ovde prikazujemo neke od nacina koje mozemo koristiti da utvrdimo da li podaci sa kojima radimo prate normalnu raspodelu. Nakon toga cemo upotrebiti box-cox transformaciju kao primer kako možemo normalizovati podatke. \n",
    "\n",
    "Za prikaz rada box-cox transformacije generisemo skup 'random' 1000 vrednosti iz eksponencijalne raspodele, a kasnije posmatramo i skup sa približno normalnom raspodelom."
   ]
  },
  {
   "cell_type": "markdown",
   "id": "23626069",
   "metadata": {},
   "source": [
    "## Test normalnosti\n",
    "\n",
    "U statističkoj analizi uglavnom imamo tri načina da odredimo da li naši podaci slede normalnu raspodelu i koliko su blizu nje:\n",
    "\n",
    "1. **Grafička reprezentacija raspodele**\n",
    "   - [Grafik raspodele](https://seaborn.pydata.org/tutorial/distributions.html)\n",
    "   - [Histogram](https://seaborn.pydata.org/generated/seaborn.histplot.html)\n",
    "   - [QQ grafik](https://www.statsmodels.org/dev/generated/statsmodels.graphics.gofplots.qqplot.html)\n",
    "   \n",
    "  \n",
    "2. **Metrike**\n",
    "   - Asimetrija ('Skewness')\n",
    "   - Mera špicastosti ('Kurtosis')\n",
    "   \n",
    "  \n",
    "3. **Statistički testovi normalnosti**\n"
   ]
  },
  {
   "cell_type": "markdown",
   "id": "8e368175",
   "metadata": {},
   "source": [
    "Pravimo skup podataka, iz eksponencijalne raspodele, koji koristimo za testiranje normalnosti."
   ]
  },
  {
   "cell_type": "code",
   "execution_count": 12,
   "id": "3f17ee30",
   "metadata": {},
   "outputs": [],
   "source": [
    "import numpy as np \n",
    "import seaborn as sns\n",
    "import matplotlib.pyplot as plt\n",
    "\n",
    "# zelimo da napravimo primer moguc za reprodukciju\n",
    "np.random.seed(0)\n",
    "\n",
    "# generisemo skup podataka\n",
    "data = np.random.exponential(size=1000)"
   ]
  },
  {
   "cell_type": "code",
   "execution_count": 13,
   "id": "1c391d74",
   "metadata": {},
   "outputs": [
    {
     "data": {
      "image/png": "[encoded data removed]",
      "text/plain": [
       "<Figure size 360x360 with 1 Axes>"
      ]
     },
     "metadata": {
      "needs_background": "light"
     },
     "output_type": "display_data"
    }
   ],
   "source": [
    "plt.figure(figsize = (5, 5))\n",
    "# kreiramo histogram raspodele\n",
    "sns.histplot(data, kde=True)   \n",
    "# opcija kde=True dodaje KDE (Kernel Density Estimate) krivu koja procenjuje verovatnoću raspodele podataka na osnovu histograma.\n",
    "\n",
    "plt.show()"
   ]
  },
  {
   "cell_type": "markdown",
   "id": "aadca235",
   "metadata": {},
   "source": [
    "Iz histograma vidimo da raspodela podataka, ocekivano, **nije normalna**."
   ]
  },
  {
   "cell_type": "markdown",
   "id": "fe6fad9b",
   "metadata": {},
   "source": [
    "---------------------------------------------------------------------------------------------------------------"
   ]
  },
  {
   "cell_type": "markdown",
   "id": "4194158d",
   "metadata": {},
   "source": [
    "Jos jedan nacin da zakljucimo da podaci nemaju normalnu raspodelu je konstrukcija **Q-Q grafika (Quantile-Quantile Plot)**\n",
    "\n",
    "Q-Q grafici su grafici koji se koriste za poređenje raspodele dva skupa podataka ili za poređenje jednog skupa podataka sa teorijskom raspodelom (kao što je normalna raspodela). \n",
    "Ovi grafici vizualizuju u kojoj meri podaci slede određenu raspodelu, i ako odstupaju, na koji način to čine.\n",
    "\n",
    "\n",
    "Q-Q grafici se često koriste za procenu normalnosti podataka. Na primer, ako želimo da proverimo da li podaci slede normalnu raspodelu, kreiramo Q-Q grafikon gde x-osa predstavlja kvantile normalne raspodele, a y-osa kvantile vaših podataka.\n",
    "\n",
    "   - Ako tačke leže na pravoj liniji, to sugeriše da podaci slede normalnu raspodelu.\n",
    "   - Ako tačke odstupaju od linije, to ukazuje na odstupanje od normalnosti."
   ]
  },
  {
   "cell_type": "code",
   "execution_count": 14,
   "id": "6e82a00c",
   "metadata": {},
   "outputs": [
    {
     "data": {
      "image/png": "[encoded data removed]",
      "text/plain": [
       "<Figure size 432x288 with 1 Axes>"
      ]
     },
     "metadata": {
      "needs_background": "light"
     },
     "output_type": "display_data"
    }
   ],
   "source": [
    "from scipy import stats\n",
    "\n",
    "# Q-Q plot\n",
    "stats.probplot(data, dist=\"norm\", plot=plt)\n",
    "plt.title('Q-Q Plot of Exponential Data vs. Normal Distribution')\n",
    "plt.show()"
   ]
  },
  {
   "cell_type": "markdown",
   "id": "b0073b76",
   "metadata": {},
   "source": [
    "----------------------------------------------------------------------------------------------------------------"
   ]
  },
  {
   "cell_type": "markdown",
   "id": "092f77d8",
   "metadata": {},
   "source": [
    "**Asimetrija** je statistički termin koji meri koliko je raspodela podataka (a)simetrična u odnosu na njenu sredinu. \n",
    "\n",
    "**Mera Špicastosti** je statistička mera koja opisuje oblik distribucije podataka, odnosno kako su podaci raspoređeni oko prosečne vrednosti.\n",
    "\n",
    "Asimetrija (Skewness):\n",
    "\n",
    "    skewness = 0: raspodela je simetrična (normalna raspodela)\n",
    "    skewness > 0: rep raspodele vuče na desnu stranu, desna, pozitivna asimetričnost\n",
    "    skewness < 0: duži rep levo, leva, negativna asimetričnost\n",
    "\n",
    "Mera Špicastosti (Kurtosis):\n",
    "\n",
    "    kurtosis = 3: normalna raspodela\n",
    "    kurtosis > 3: raspodela je špicastija (više koncentrisana oko srednje vrednosti)\n",
    "    kurtosis < 3: raspodela je spljoštena (ravnija)"
   ]
  },
  {
   "cell_type": "code",
   "execution_count": 15,
   "id": "468447f7",
   "metadata": {},
   "outputs": [
    {
     "name": "stdout",
     "output_type": "stream",
     "text": [
      "Skew:2.0526452829685935\n"
     ]
    }
   ],
   "source": [
    "import scipy\n",
    "from scipy.stats import skew\n",
    "\n",
    "skew_val = skew(data, axis=0, bias=True)\n",
    "print('Skew:{}'.format(skew_val))"
   ]
  },
  {
   "cell_type": "code",
   "execution_count": 16,
   "id": "dca412e6",
   "metadata": {},
   "outputs": [
    {
     "name": "stdout",
     "output_type": "stream",
     "text": [
      "Kurtosis:6.476140290441888\n"
     ]
    }
   ],
   "source": [
    "from scipy.stats import kurtosis\n",
    "\n",
    "kurt_val = kurtosis(data, axis=0, bias=True)\n",
    "print('Kurtosis:{}'.format(kurt_val))"
   ]
  },
  {
   "cell_type": "markdown",
   "id": "c2819e16",
   "metadata": {},
   "source": [
    "S obzirom da je skew=2.05, a kurtosis=6.5, zakljucujemo da je naš skup podataka desno asimetričan i špicast."
   ]
  },
  {
   "cell_type": "markdown",
   "id": "336d5a36",
   "metadata": {},
   "source": [
    "------------------------------------------------------------------------------------------------------------"
   ]
  },
  {
   "cell_type": "markdown",
   "id": "0ed4bfeb",
   "metadata": {},
   "source": [
    "Takodje, za procenu normalnosti uzorka podataka mozemo koristiti i razlicite vrste statistickih testova normalnosti.\n",
    "\n",
    "Neki od njih su: \n",
    "\n",
    " - **Shapiro-Wilk Test** (uglavnom za manje uzorke, samo za normalnu raspodelu)\n",
    " - **Kolmogorov-Smirnov Test** (generalni test)\n",
    " - **Anderson-Darling Test** (modifikacija K-S testa za testiranje normalnosti)"
   ]
  },
  {
   "cell_type": "markdown",
   "id": "7a78655c",
   "metadata": {},
   "source": [
    "Koristimo Shapiro-Wilk Test za proveru. \n",
    "On testira nultu hipotezu da li uzorak podataka potiče iz normalne raspodele racunajuci vrednost p. \n",
    "\n",
    "- **p > 0.05**: Ne odbacujemo nultu hipotezu. Podaci mogu biti normalno raspodeljeni.\n",
    "- **p ≤ 0.05**: Odbacujemo nultu hipotezu. Podaci verovatno nisu normalno raspodeljeni."
   ]
  },
  {
   "cell_type": "code",
   "execution_count": 17,
   "id": "67024391",
   "metadata": {
    "scrolled": true
   },
   "outputs": [
    {
     "name": "stdout",
     "output_type": "stream",
     "text": [
      "Shapiro-Wilk Test: p=0.000\n",
      "Podaci nisu normalno raspodeljeni (odbacujemo H0)\n"
     ]
    }
   ],
   "source": [
    "# za test je potrebno uvesti funkciju shapiro iz modula scipy.stats\n",
    "from scipy.stats import shapiro\n",
    "\n",
    "#racunamo p-vrednost\n",
    "_, p = shapiro(data)\n",
    "print('Shapiro-Wilk Test: p=%.3f' % (p))\n",
    "\n",
    "if p > 0.05:\n",
    "    print('Podaci su iz normalne raspodele (prihvatamo H0)')\n",
    "else:\n",
    "    print('Podaci nisu normalno raspodeljeni (odbacujemo H0)')"
   ]
  },
  {
   "cell_type": "markdown",
   "id": "b27a8409",
   "metadata": {},
   "source": [
    "----------------------------------------------------------------------------------------------------------------"
   ]
  },
  {
   "cell_type": "markdown",
   "id": "95d279d7",
   "metadata": {},
   "source": [
    "Izvrsicemo i Kolmogorov-Smirnov (K-S) test za proveru normalnosti nasih podataka. \n",
    "Ovaj test upoređuje empirijsku distribuciju podataka sa očekivanom distribucijom.\n",
    "\n",
    "Takodje testira nultu hipotezu da li uzorak podataka potiče iz normalne raspodele racunajuci vrednost p.\n",
    "\n",
    "- **p > 0.05**: Ne odbacujemo nultu hipotezu. Podaci mogu biti normalno raspodeljeni.\n",
    "- **p ≤ 0.05**: Odbacujemo nultu hipotezu. Podaci verovatno nisu normalno raspodeljeni."
   ]
  },
  {
   "cell_type": "code",
   "execution_count": 18,
   "id": "46c67467",
   "metadata": {},
   "outputs": [
    {
     "name": "stdout",
     "output_type": "stream",
     "text": [
      "p-vrednost: 3.1874230847995995e-24\n",
      "Podaci nisu normalno raspodeljeni (odbacujemo H0)\n"
     ]
    }
   ],
   "source": [
    "from scipy.stats import kstest, norm\n",
    "\n",
    "# Primena Kolmogorov-Smirnov testa za normalnost\n",
    "# Prvo, transformišemo podatke tako da budu standardizovani (srednja vrednost 0, standardna devijacija 1)\n",
    "data_standardized = (data - np.mean(data)) / np.std(data)\n",
    "\n",
    "_, p_value = kstest(data_standardized, 'norm')\n",
    "\n",
    "# Prikaz rezultata testa\n",
    "print('p-vrednost:', p_value)\n",
    "\n",
    "if p_value > 0.05:\n",
    "    print('Podaci su iz normalne raspodele (prihvatamo H0)')\n",
    "else:\n",
    "    print('Podaci nisu normalno raspodeljeni (odbacujemo H0)')"
   ]
  },
  {
   "cell_type": "markdown",
   "id": "fb3a64f6",
   "metadata": {},
   "source": [
    "## Box-Cox transformacija"
   ]
  },
  {
   "cell_type": "markdown",
   "id": "f687a211",
   "metadata": {},
   "source": [
    "Nakon sto smo utvrdili da podaci sa kojima radimo nisu u normalnoj raspodeli, izvrsicemo **Box-Cox transformaciju** nad njima"
   ]
  },
  {
   "cell_type": "code",
   "execution_count": 19,
   "id": "c69b5aba",
   "metadata": {},
   "outputs": [],
   "source": [
    "# uvodimo funkciju boxcox iz modula scipy.stats\n",
    "from scipy.stats import boxcox"
   ]
  },
  {
   "cell_type": "code",
   "execution_count": 20,
   "id": "26d3d517",
   "metadata": {},
   "outputs": [
    {
     "data": {
      "image/png": "[encoded data removed]",
      "text/plain": [
       "<Figure size 360x360 with 1 Axes>"
      ]
     },
     "metadata": {
      "needs_background": "light"
     },
     "output_type": "display_data"
    },
    {
     "name": "stdout",
     "output_type": "stream",
     "text": [
      "0.24201318675540698\n"
     ]
    }
   ],
   "source": [
    "# Primena Box-Cox transformacije\n",
    "# Box-Cox transformacija zahteva pozitivne podatke\n",
    "tdata, best_lambda = boxcox(data + 1e-9) # Dodajemo malu vrednost da izbegnemo log(0)\n",
    "\n",
    "# Vizualizacija transformisanih podataka\n",
    "plt.figure(figsize = (5, 5))\n",
    "sns.histplot(tdata, kde=True) \n",
    "plt.show()\n",
    "\n",
    "\n",
    "#prikazujemo najoptimalniju vrednost za lambdu\n",
    "print(best_lambda)"
   ]
  },
  {
   "cell_type": "markdown",
   "id": "76d2b5da",
   "metadata": {},
   "source": [
    "---------------------------------------------------------------------------------------------------------------\n",
    "---------------------------------------------------------------------------------------------------------------"
   ]
  },
  {
   "cell_type": "markdown",
   "id": "d436763c",
   "metadata": {},
   "source": [
    "Posmatramo drugi skup podataka.\n",
    "\n",
    "**Uzorak koji koristimo:** težina i visina muškaraca i žena. Mi filtriramo skup i posmatramo samo težinu muškaraca starijih od 15 godina."
   ]
  },
  {
   "cell_type": "code",
   "execution_count": 45,
   "id": "314cb543",
   "metadata": {},
   "outputs": [
    {
     "name": "stdout",
     "output_type": "stream",
     "text": [
      "File loaded successfully\n"
     ]
    },
    {
     "data": {
      "text/plain": [
       "0    47.825606\n",
       "3    53.041914\n",
       "5    62.992589\n",
       "7    55.479971\n",
       "9    54.487739\n",
       "Name: weight, dtype: float64"
      ]
     },
     "execution_count": 45,
     "metadata": {},
     "output_type": "execute_result"
    }
   ],
   "source": [
    "import pandas as pd\n",
    "import numpy as np\n",
    "import os\n",
    "\n",
    "# formiramo putanju do fajla\n",
    "current_dir = os.getcwd()\n",
    "\n",
    "file_name = 'data/mw_height_weight.csv'\n",
    "file_path = os.path.join(current_dir, file_name)\n",
    "\n",
    "try:\n",
    "    raw_data = pd.read_csv(file_path)\n",
    "    \n",
    "    print(\"File loaded successfully\")\n",
    "except FileNotFoundError as e:\n",
    "    print(f\"Error: {e}\")\n",
    "\n",
    "filtered_data = raw_data.copy()\n",
    "filtered_data = filtered_data[(filtered_data.age > 15) & filtered_data.male == 1]\n",
    "data = filtered_data['weight']\n",
    "data.head()"
   ]
  },
  {
   "cell_type": "code",
   "execution_count": 46,
   "id": "0b341e16",
   "metadata": {},
   "outputs": [
    {
     "data": {
      "image/png": "[encoded data removed]",
      "text/plain": [
       "<Figure size 576x576 with 1 Axes>"
      ]
     },
     "metadata": {
      "needs_background": "light"
     },
     "output_type": "display_data"
    }
   ],
   "source": [
    "plt.figure(figsize = (8,8))\n",
    "sns.histplot(data, kde=True, stat='density', bins=50)\n",
    "plt.show()"
   ]
  },
  {
   "cell_type": "code",
   "execution_count": 39,
   "id": "583b36c1",
   "metadata": {},
   "outputs": [
    {
     "data": {
      "image/png": "[encoded data removed]",
      "text/plain": [
       "<Figure size 576x576 with 1 Axes>"
      ]
     },
     "metadata": {
      "needs_background": "light"
     },
     "output_type": "display_data"
    }
   ],
   "source": [
    "plt.figure(figsize = (8,8))\n",
    "# Q-Q plot\n",
    "stats.probplot(data, dist=\"norm\", plot=plt)\n",
    "plt.show()"
   ]
  },
  {
   "cell_type": "code",
   "execution_count": 47,
   "id": "789b4afc",
   "metadata": {},
   "outputs": [
    {
     "name": "stdout",
     "output_type": "stream",
     "text": [
      "Shapiro-Wilk Test: p=0.254\n",
      "Podaci su iz normalne raspodele (prihvatamo H0)\n"
     ]
    }
   ],
   "source": [
    "shapiro_test = stats.shapiro(data)\n",
    "_, p = shapiro(data)\n",
    "print('Shapiro-Wilk Test: p=%.3f' % (p))\n",
    "\n",
    "if p > 0.05:\n",
    "    print('Podaci su iz normalne raspodele (prihvatamo H0)')\n",
    "else:\n",
    "    print('Podaci nisu normalno raspodeljeni (odbacujemo H0)')"
   ]
  },
  {
   "cell_type": "markdown",
   "id": "e89aced2",
   "metadata": {},
   "source": [
    "----------------------------------------------------------------------------------------------------------------"
   ]
  }
 ],
 "metadata": {
  "kernelspec": {
   "display_name": "Python 3 (ipykernel)",
   "language": "python",
   "name": "python3"
  },
  "language_info": {
   "codemirror_mode": {
    "name": "ipython",
    "version": 3
   },
   "file_extension": ".py",
   "mimetype": "text/x-python",
   "name": "python",
   "nbconvert_exporter": "python",
   "pygments_lexer": "ipython3",
   "version": "3.8.10"
  }
 },
 "nbformat": 4,
 "nbformat_minor": 5
}
