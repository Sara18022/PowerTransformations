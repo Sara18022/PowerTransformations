{
 "cells": [
  {
   "cell_type": "markdown",
   "id": "7aa82583",
   "metadata": {},
   "source": [
    "Na uzorku podataka (koji se ispostavlja da neće biti normalne raspodele), testiraćemo Box-Cox i Yeo-Johnson transformacije, kao i druge vrste stepenih transformacija i posmatraćemo njihovu zavisnost.\n",
    "\n",
    "Transformacije koje ćemo implementirati:\n",
    "\n",
    "    1) Logaritamska\n",
    "    2) Inverzna\n",
    "    3) Korene\n",
    "    4) Box-Cox \n",
    "    5) Yeo-Johnson"
   ]
  },
  {
   "cell_type": "code",
   "execution_count": 1,
   "id": "624e582f",
   "metadata": {},
   "outputs": [],
   "source": [
    "# potrebne biblioteke\n",
    "import pandas as pd\n",
    "import numpy as np\n",
    "import seaborn as sns\n",
    "from scipy import stats\n",
    "import matplotlib.pyplot as plt\n",
    "from datetime import date\n",
    "from scipy.stats import skew\n",
    "\n",
    "import warnings\n",
    "warnings.simplefilter(action='ignore', category=FutureWarning)"
   ]
  },
  {
   "cell_type": "markdown",
   "id": "88d7ffdf",
   "metadata": {},
   "source": [
    "Uvozimo podatke.\n",
    "\n",
    "**Uzorak koji koristimo:** pregledi na web sajtu po minutu, u vremenskom periodu od 3 meseca."
   ]
  },
  {
   "cell_type": "code",
   "execution_count": 2,
   "id": "1258791a",
   "metadata": {},
   "outputs": [
    {
     "name": "stdout",
     "output_type": "stream",
     "text": [
      "File loaded successfully\n"
     ]
    },
    {
     "data": {
      "text/html": [
       "<div>\n",
       "<style scoped>\n",
       "    .dataframe tbody tr th:only-of-type {\n",
       "        vertical-align: middle;\n",
       "    }\n",
       "\n",
       "    .dataframe tbody tr th {\n",
       "        vertical-align: top;\n",
       "    }\n",
       "\n",
       "    .dataframe thead th {\n",
       "        text-align: right;\n",
       "    }\n",
       "</style>\n",
       "<table border=\"1\" class=\"dataframe\">\n",
       "  <thead>\n",
       "    <tr style=\"text-align: right;\">\n",
       "      <th></th>\n",
       "      <th>datetime</th>\n",
       "      <th>f1</th>\n",
       "    </tr>\n",
       "  </thead>\n",
       "  <tbody>\n",
       "    <tr>\n",
       "      <th>0</th>\n",
       "      <td>1990-03-01 00:00:00</td>\n",
       "      <td>4356.0</td>\n",
       "    </tr>\n",
       "    <tr>\n",
       "      <th>1</th>\n",
       "      <td>1990-03-01 00:01:00</td>\n",
       "      <td>1108.0</td>\n",
       "    </tr>\n",
       "    <tr>\n",
       "      <th>2</th>\n",
       "      <td>1990-03-01 00:02:00</td>\n",
       "      <td>3753.0</td>\n",
       "    </tr>\n",
       "    <tr>\n",
       "      <th>3</th>\n",
       "      <td>1990-03-01 00:03:00</td>\n",
       "      <td>27144.0</td>\n",
       "    </tr>\n",
       "    <tr>\n",
       "      <th>4</th>\n",
       "      <td>1990-03-01 00:04:00</td>\n",
       "      <td>1408.0</td>\n",
       "    </tr>\n",
       "  </tbody>\n",
       "</table>\n",
       "</div>"
      ],
      "text/plain": [
       "             datetime       f1\n",
       "0 1990-03-01 00:00:00   4356.0\n",
       "1 1990-03-01 00:01:00   1108.0\n",
       "2 1990-03-01 00:02:00   3753.0\n",
       "3 1990-03-01 00:03:00  27144.0\n",
       "4 1990-03-01 00:04:00   1408.0"
      ]
     },
     "execution_count": 2,
     "metadata": {},
     "output_type": "execute_result"
    }
   ],
   "source": [
    "import os\n",
    "\n",
    "# formiramo putanju do fajla\n",
    "current_dir = os.getcwd()\n",
    "\n",
    "file_name = 'data/timeseries_views_per_min.csv'\n",
    "file_path = os.path.join(current_dir, file_name)\n",
    "\n",
    "try:\n",
    "    data = pd.read_csv(file_path, index_col = 0)\n",
    "    print(\"File loaded successfully\")\n",
    "except FileNotFoundError as e:\n",
    "    print(f\"Error: {e}\")\n",
    "\n",
    "# prikazujemo podatke\n",
    "df = data.reset_index()\n",
    "df['datetime'] = pd.to_datetime(df['datetime'])\n",
    "\n",
    "df.head()"
   ]
  },
  {
   "cell_type": "code",
   "execution_count": 3,
   "id": "c7a473d2",
   "metadata": {},
   "outputs": [
    {
     "name": "stdout",
     "output_type": "stream",
     "text": [
      "<class 'pandas.core.frame.DataFrame'>\n",
      "RangeIndex: 107333 entries, 0 to 107332\n",
      "Data columns (total 2 columns):\n",
      " #   Column    Non-Null Count   Dtype         \n",
      "---  ------    --------------   -----         \n",
      " 0   datetime  107333 non-null  datetime64[ns]\n",
      " 1   f1        107333 non-null  float64       \n",
      "dtypes: datetime64[ns](1), float64(1)\n",
      "memory usage: 1.6 MB\n"
     ]
    }
   ],
   "source": [
    "df.info()"
   ]
  },
  {
   "cell_type": "code",
   "execution_count": 4,
   "id": "d2cbe005",
   "metadata": {},
   "outputs": [
    {
     "data": {
      "text/plain": [
       "(107333, 2)"
      ]
     },
     "execution_count": 4,
     "metadata": {},
     "output_type": "execute_result"
    }
   ],
   "source": [
    "df.shape"
   ]
  },
  {
   "cell_type": "code",
   "execution_count": 5,
   "id": "da62b653",
   "metadata": {},
   "outputs": [
    {
     "data": {
      "text/plain": [
       "(5806, 0)"
      ]
     },
     "execution_count": 5,
     "metadata": {},
     "output_type": "execute_result"
    }
   ],
   "source": [
    "# isptujemo koliko nula i negativnih vrednosti imamo u skupu podataka sa kojim radimo\n",
    "# ovo nam je važno jer određene transformacije rade samo sa nenegativnim vrednostima\n",
    "len(df[df['f1'] == 0]), len(df[df['f1'] < 0])"
   ]
  },
  {
   "cell_type": "markdown",
   "id": "e87156c3",
   "metadata": {},
   "source": [
    "----------------------------------------------------------------------------------------------------------------"
   ]
  },
  {
   "cell_type": "markdown",
   "id": "ba931728",
   "metadata": {},
   "source": [
    "Želimo da proverimo koliko podaci sa kojima radimo odstupaju od normalne raspodele te sprovodimo [test normalnosti.](01_normality_test.ipynb)"
   ]
  },
  {
   "cell_type": "code",
   "execution_count": 7,
   "id": "197c2103",
   "metadata": {},
   "outputs": [
    {
     "data": {
      "image/png": "[encoded data removed]",
      "text/plain": [
       "<Figure size 504x360 with 1 Axes>"
      ]
     },
     "metadata": {
      "needs_background": "light"
     },
     "output_type": "display_data"
    },
    {
     "name": "stdout",
     "output_type": "stream",
     "text": [
      "1.538480887364415\n"
     ]
    }
   ],
   "source": [
    "from scipy.stats import norm\n",
    "from scipy.stats import skew\n",
    "\n",
    "data = df['f1']\n",
    "\n",
    "plt.figure(figsize=(7, 5))\n",
    "\n",
    "# pravimo histogram originalnih podataka\n",
    "sns.histplot(data, kde=True, bins=50, label='Originalni podaci')\n",
    "\n",
    "plt.show()\n",
    "\n",
    "skew_orig = skew(df['f1'], axis=0, bias=True)\n",
    "print(skew_orig)"
   ]
  },
  {
   "cell_type": "markdown",
   "id": "bda20060",
   "metadata": {},
   "source": [
    "Kao sto ocigledno mozemo videti, uzorak **ne prati normalnu raspodelu**. Ima vise vrednosti u rasponu od 0 do 30.000, tj ima pozitivnu (desnu asimetriju), sto potvrđuje i izračunata vrednost skew > 0."
   ]
  },
  {
   "cell_type": "code",
   "execution_count": 8,
   "id": "67020b52",
   "metadata": {},
   "outputs": [
    {
     "data": {
      "image/png": "[encoded data removed]",
      "text/plain": [
       "<Figure size 360x360 with 1 Axes>"
      ]
     },
     "metadata": {
      "needs_background": "light"
     },
     "output_type": "display_data"
    }
   ],
   "source": [
    "plt.figure(figsize = (5,5))\n",
    "# Q-Q plot\n",
    "stats.probplot(data, dist=\"norm\", plot=plt)\n",
    "plt.show()"
   ]
  },
  {
   "cell_type": "markdown",
   "id": "6bd11714",
   "metadata": {},
   "source": [
    "Na QQ grafiku, jasno možemo videti da se većina plavih tačaka NE poklapa sa crvenom linijom (pod uglom od 45 stepeni), i stoga, jos jednom, zakljucujemo da naši podaci **ne prate** normalnu raspodelu"
   ]
  },
  {
   "cell_type": "markdown",
   "id": "6adcbdb6",
   "metadata": {},
   "source": [
    "----------------------------------------------------------------------------------------------------------------"
   ]
  },
  {
   "cell_type": "markdown",
   "id": "dd937da6",
   "metadata": {},
   "source": [
    "Kako bismo imali još jedan način za upoređivanje transformacija, pored grafičkog, definišemo sledeću funkciju koja računa [srednju vrednost i medijanu](00_normal_distribution.ipynb) transformisanih podataka."
   ]
  },
  {
   "cell_type": "code",
   "execution_count": 9,
   "id": "4d90c9f5",
   "metadata": {},
   "outputs": [],
   "source": [
    "def mean_median_diff(df,col):\n",
    "    data_mean = np.mean(df[col])\n",
    "    data_median = np.median(df[col])\n",
    "    \n",
    "    return round(data_mean, 2), round(data_median, 2), abs(round((data_mean - data_median), 2))"
   ]
  },
  {
   "cell_type": "code",
   "execution_count": 10,
   "id": "44b22a12",
   "metadata": {},
   "outputs": [
    {
     "data": {
      "text/plain": [
       "(25463.37, 12121.0, 13342.37)"
      ]
     },
     "execution_count": 10,
     "metadata": {},
     "output_type": "execute_result"
    }
   ],
   "source": [
    "# računamo vrednosti za originalne podatke\n",
    "f1_mean,f1_median, f1_diff = mean_median_diff(df,'f1')\n",
    "f1_mean,f1_median, f1_diff"
   ]
  },
  {
   "cell_type": "markdown",
   "id": "e03e9661",
   "metadata": {},
   "source": [
    "### Logaritamska transformacija\n",
    "\n",
    "Računamo logaritam svake vrednosti iz datog uzorka, po formuli $y = log(x)$\n",
    "\n",
    "Logaritamska transformacija ne radi sa negativnim i nula vrednostima, pa ih moramo eliminisati ukoliko postoje u našem skupu podataka."
   ]
  },
  {
   "cell_type": "code",
   "execution_count": 11,
   "id": "94113629",
   "metadata": {},
   "outputs": [],
   "source": [
    "df_log = df.copy()"
   ]
  },
  {
   "cell_type": "code",
   "execution_count": 12,
   "id": "1d59961b",
   "metadata": {},
   "outputs": [
    {
     "name": "stdout",
     "output_type": "stream",
     "text": [
      "Nule:0, negativni:0\n"
     ]
    },
    {
     "data": {
      "text/html": [
       "<div>\n",
       "<style scoped>\n",
       "    .dataframe tbody tr th:only-of-type {\n",
       "        vertical-align: middle;\n",
       "    }\n",
       "\n",
       "    .dataframe tbody tr th {\n",
       "        vertical-align: top;\n",
       "    }\n",
       "\n",
       "    .dataframe thead th {\n",
       "        text-align: right;\n",
       "    }\n",
       "</style>\n",
       "<table border=\"1\" class=\"dataframe\">\n",
       "  <thead>\n",
       "    <tr style=\"text-align: right;\">\n",
       "      <th></th>\n",
       "      <th>datetime</th>\n",
       "      <th>f1</th>\n",
       "    </tr>\n",
       "  </thead>\n",
       "  <tbody>\n",
       "    <tr>\n",
       "      <th>0</th>\n",
       "      <td>1990-03-01 00:00:00</td>\n",
       "      <td>4356.0</td>\n",
       "    </tr>\n",
       "    <tr>\n",
       "      <th>1</th>\n",
       "      <td>1990-03-01 00:01:00</td>\n",
       "      <td>1108.0</td>\n",
       "    </tr>\n",
       "    <tr>\n",
       "      <th>2</th>\n",
       "      <td>1990-03-01 00:02:00</td>\n",
       "      <td>3753.0</td>\n",
       "    </tr>\n",
       "    <tr>\n",
       "      <th>3</th>\n",
       "      <td>1990-03-01 00:03:00</td>\n",
       "      <td>27144.0</td>\n",
       "    </tr>\n",
       "    <tr>\n",
       "      <th>4</th>\n",
       "      <td>1990-03-01 00:04:00</td>\n",
       "      <td>1408.0</td>\n",
       "    </tr>\n",
       "  </tbody>\n",
       "</table>\n",
       "</div>"
      ],
      "text/plain": [
       "             datetime       f1\n",
       "0 1990-03-01 00:00:00   4356.0\n",
       "1 1990-03-01 00:01:00   1108.0\n",
       "2 1990-03-01 00:02:00   3753.0\n",
       "3 1990-03-01 00:03:00  27144.0\n",
       "4 1990-03-01 00:04:00   1408.0"
      ]
     },
     "execution_count": 12,
     "metadata": {},
     "output_type": "execute_result"
    }
   ],
   "source": [
    "# nas skup nema negativne, ali ima nula vrednosti \n",
    "# dodajemo malu vrednost na sve vrednosti iz našeg skupa podataka, kako bismo se resili nula\n",
    "\n",
    "df_log['f1'] = df_log['f1'].apply(lambda x: x+1e-10)\n",
    "print('Nule:{}, negativni:{}'.format(len(df_log[df_log['f1'] == 0]), len(df_log[df_log['f1'] < 0])))\n",
    "\n",
    "df_log.head()"
   ]
  },
  {
   "cell_type": "code",
   "execution_count": 13,
   "id": "0e44fb16",
   "metadata": {},
   "outputs": [
    {
     "data": {
      "image/png": "[encoded data removed]",
      "text/plain": [
       "<Figure size 1008x432 with 2 Axes>"
      ]
     },
     "metadata": {
      "needs_background": "light"
     },
     "output_type": "display_data"
    }
   ],
   "source": [
    "# Log transformacija\n",
    "df_log['f1'] = np.log(df_log['f1'])\n",
    "\n",
    "# Prikazujemo promenu grafički\n",
    "fig, axes = plt.subplots(1, 2, figsize=(14, 6))\n",
    "\n",
    "# Prvi histogram: Originalni podaci\n",
    "sns.histplot(df['f1'], ax=axes[0], kde=True)\n",
    "axes[0].set_title('Originalnih podaci')\n",
    "\n",
    "## Drugi histogram: Logaritamski transformisani podaci\n",
    "sns.histplot(df_log['f1'], ax=axes[1], kde=True)\n",
    "axes[1].set_title('Logaritamski transformisani podaci')\n",
    "\n",
    "plt.tight_layout()\n",
    "plt.show()"
   ]
  },
  {
   "cell_type": "code",
   "execution_count": 14,
   "id": "bda40160",
   "metadata": {},
   "outputs": [
    {
     "data": {
      "text/plain": [
       "(7.67, 9.4, 1.73)"
      ]
     },
     "execution_count": 14,
     "metadata": {},
     "output_type": "execute_result"
    }
   ],
   "source": [
    "# računamo medijanu i srednju vrednost\n",
    "\n",
    "f1_log_mean,f1_log_median, f1_log_diff = mean_median_diff(df_log,'f1')\n",
    "f1_log_mean,f1_log_median, f1_log_diff"
   ]
  },
  {
   "cell_type": "code",
   "execution_count": 15,
   "id": "702006c9",
   "metadata": {},
   "outputs": [
    {
     "name": "stdout",
     "output_type": "stream",
     "text": [
      "-3.7157960739982694\n"
     ]
    }
   ],
   "source": [
    "# racunamo asimetriju transformisanih podataka\n",
    "\n",
    "skew_log = skew(df_log['f1'], axis=0, bias=True)\n",
    "print(skew_log)"
   ]
  },
  {
   "cell_type": "markdown",
   "id": "9d96e790",
   "metadata": {},
   "source": [
    "**Zaključak:** Srednja vrednost i medijana originalnih podataka su bile veoma udaljene jedna od druge. Nakon logaritamske transformacije, srednja vrednost i medijana su gotovo jednake, što je karakteristika normalno distribuiranih podataka. \n",
    "\n",
    "Takođe asimetrija je negativna, pa potvrđujemo ono što vidimo na grafiku da su podaci levo asimetrični.\n",
    "\n",
    "Međutim, ovo nije veoma poželjna raspodela. Pokušaćemo sa drugim transformacijama, da dobijemo još bolje rezultate."
   ]
  },
  {
   "cell_type": "markdown",
   "id": "859cb467",
   "metadata": {},
   "source": [
    "### Korene transformacije (kvadratna i kubna)\n",
    "\n",
    "Računamo kvadratni i kubni koren svake vrednosti iz datog uzorka, po formulama $y = x^{1/2}$ i $y = x^{1/3}$\n",
    "\n",
    "Kvadratna transformacija radi samo sa nenegativnim vrednostima."
   ]
  },
  {
   "cell_type": "code",
   "execution_count": 17,
   "id": "3daca2e5",
   "metadata": {},
   "outputs": [],
   "source": [
    "df_sqroot = df.copy()\n",
    "df_cuberoot = df.copy()"
   ]
  },
  {
   "cell_type": "code",
   "execution_count": 18,
   "id": "b55e7ee6",
   "metadata": {},
   "outputs": [
    {
     "data": {
      "image/png": "[encoded data removed]",
      "text/plain": [
       "<Figure size 1296x432 with 3 Axes>"
      ]
     },
     "metadata": {
      "needs_background": "light"
     },
     "output_type": "display_data"
    }
   ],
   "source": [
    "# korena transformacija\n",
    "df_sqroot['f1'] = np.sqrt(df_sqroot['f1'])\n",
    "\n",
    "# kubna transformacija\n",
    "df_cuberoot['f1'] = np.cbrt(df_cuberoot['f1'])\n",
    "\n",
    "# prikazujemo promene grafički\n",
    "fig, axes = plt.subplots(1, 3, figsize=(18, 6))\n",
    "\n",
    "\n",
    "sns.histplot(df['f1'], ax=axes[0], kde=True)\n",
    "axes[0].set_title('Originalnih podaci')\n",
    "\n",
    "sns.histplot(df_sqroot['f1'], ax=axes[1], kde=True)\n",
    "axes[1].set_title('Transformacija kvadratnog korenovanja')\n",
    "\n",
    "sns.histplot(df_cuberoot['f1'], ax=axes[2], kde=True)\n",
    "axes[2].set_title('Transformacija kubnog korenovanja')\n",
    "\n",
    "plt.tight_layout()\n",
    "plt.show()"
   ]
  },
  {
   "cell_type": "code",
   "execution_count": 19,
   "id": "ade1269b",
   "metadata": {},
   "outputs": [
    {
     "name": "stdout",
     "output_type": "stream",
     "text": [
      "Square: 131.68, 110.1, 21.59\n",
      "Square: 24.3, 22.97, 1.33\n"
     ]
    }
   ],
   "source": [
    "# računamo medijanu i srednju vrednost\n",
    "\n",
    "f1_sqroot_mean,f1_sqroot_median, f1_sqroot_diff = mean_median_diff(df_sqroot,'f1')\n",
    "print(\"Square: {}, {}, {}\".format(f1_sqroot_mean,f1_sqroot_median, f1_sqroot_diff))\n",
    "\n",
    "f1_cuberoot_mean,f1_cuberoot_median, f1_cuberoot_diff = mean_median_diff(df_cuberoot,'f1')\n",
    "print(\"Square: {}, {}, {}\".format(f1_cuberoot_mean,f1_cuberoot_median, f1_cuberoot_diff))"
   ]
  },
  {
   "cell_type": "code",
   "execution_count": 20,
   "id": "45600433",
   "metadata": {},
   "outputs": [
    {
     "name": "stdout",
     "output_type": "stream",
     "text": [
      "0.7042434160733593\n",
      "0.13576675809343414\n"
     ]
    }
   ],
   "source": [
    "# racunamo asimetriju transformisanih podataka\n",
    "\n",
    "skew_sqroot = skew(df_sqroot['f1'], axis=0, bias=True)\n",
    "skew_cuberoot = skew(df_cuberoot['f1'], axis=0, bias=True)\n",
    "\n",
    "print(skew_sqroot)\n",
    "print(skew_cuberoot)"
   ]
  },
  {
   "cell_type": "markdown",
   "id": "0b07e647",
   "metadata": {},
   "source": [
    "**Zakljucak:** Kvadratnim korenovanjem nismo postogli dobre rezultate, razlika između mediane i srednje vrednosti je i dalje velika. Međutim, primenom kubnog korenovanja, razlika je značajno umanjena, te možemo biti zadovoljni transformacijom. \n",
    "\n",
    "Takođe i asimetrija je u oba slučaja bliža 0 nego kod originalnih podataka."
   ]
  },
  {
   "cell_type": "markdown",
   "id": "488dd47c",
   "metadata": {},
   "source": [
    "### Inverzna transformacija\n",
    "Računamo po formuli $y = 1/x$\n",
    "\n",
    "Ne radi sa nula vrednostima."
   ]
  },
  {
   "cell_type": "code",
   "execution_count": 21,
   "id": "83f77c1a",
   "metadata": {},
   "outputs": [],
   "source": [
    "df_inverse = df.copy()"
   ]
  },
  {
   "cell_type": "code",
   "execution_count": 22,
   "id": "5174beea",
   "metadata": {},
   "outputs": [
    {
     "data": {
      "image/png": "[encoded data removed]",
      "text/plain": [
       "<Figure size 1296x432 with 2 Axes>"
      ]
     },
     "metadata": {
      "needs_background": "light"
     },
     "output_type": "display_data"
    }
   ],
   "source": [
    "df_inverse['f1'] = df_inverse['f1'].apply(lambda x: x + 1e-10)\n",
    "\n",
    "\n",
    "df_inverse['f1'] = df_inverse['f1'].apply(lambda x: 1/x)\n",
    "\n",
    "\n",
    "fig, axes = plt.subplots(1, 2, figsize=(18, 6))\n",
    "\n",
    "sns.distplot(df['f1'], ax=axes[0], kde=True)\n",
    "axes[0].set_title('Originalni podaci')\n",
    "\n",
    "sns.distplot(df_inverse['f1'], ax=axes[1], kde=True)\n",
    "axes[1].set_title('Inverzna transformacija')\n",
    "\n",
    "plt.tight_layout()\n",
    "plt.show()"
   ]
  },
  {
   "cell_type": "code",
   "execution_count": 23,
   "id": "7f05694e",
   "metadata": {},
   "outputs": [
    {
     "data": {
      "text/plain": [
       "(540933356.94, 0.0, 540933356.94)"
      ]
     },
     "execution_count": 23,
     "metadata": {},
     "output_type": "execute_result"
    }
   ],
   "source": [
    "f1_inverse_mean,f1_inverse_median, f1_inverse_diff = mean_median_diff(df_inverse,'f1')\n",
    "f1_inverse_mean,f1_inverse_median, f1_inverse_diff"
   ]
  },
  {
   "cell_type": "code",
   "execution_count": 24,
   "id": "b31e3421",
   "metadata": {},
   "outputs": [
    {
     "name": "stdout",
     "output_type": "stream",
     "text": [
      "3.9425565791720536\n"
     ]
    }
   ],
   "source": [
    "# racunamo asimetriju transformisanih podataka\n",
    "\n",
    "skew_inv = skew(df_inverse['f1'], axis=0, bias=True)\n",
    "print(skew_inv)"
   ]
  },
  {
   "cell_type": "markdown",
   "id": "cc5a2213",
   "metadata": {},
   "source": [
    "**Zaključak:** Podaci su podeljeni u dve klase, vrednosti oko 1 i oko 0. Ova transformacija može da se ignoriše jer nije odgovarajuća. Dobijamo i asimetriju koja je još veća nego kod originalnih podataka."
   ]
  },
  {
   "cell_type": "markdown",
   "id": "cd0ea5cb",
   "metadata": {},
   "source": [
    "### Box-Cox transformacija\n",
    "\n",
    "$\\lambda \\neq 0$:\n",
    "$$\n",
    "y = \\frac{x^\\lambda - 1}{\\lambda}\n",
    "$$\n",
    "$\\lambda = 0$:\n",
    "$$\n",
    "y = \\log(x)\n",
    "$$"
   ]
  },
  {
   "cell_type": "code",
   "execution_count": 25,
   "id": "92a4c55a",
   "metadata": {},
   "outputs": [],
   "source": [
    "from scipy.special import inv_boxcox\n",
    "\n",
    "df_boxcox = df.copy()\n",
    "\n",
    "# uklanjamo nula vrednosti iz skupa podataka\n",
    "df_boxcox['f1'] = df_boxcox['f1'].apply(lambda x: x + 1e-10)\n",
    "df_boxcox_vals, fitted_lambda = stats.boxcox(df_boxcox['f1'])"
   ]
  },
  {
   "cell_type": "code",
   "execution_count": 26,
   "id": "7deafe20",
   "metadata": {},
   "outputs": [
    {
     "data": {
      "text/html": [
       "<div>\n",
       "<style scoped>\n",
       "    .dataframe tbody tr th:only-of-type {\n",
       "        vertical-align: middle;\n",
       "    }\n",
       "\n",
       "    .dataframe tbody tr th {\n",
       "        vertical-align: top;\n",
       "    }\n",
       "\n",
       "    .dataframe thead th {\n",
       "        text-align: right;\n",
       "    }\n",
       "</style>\n",
       "<table border=\"1\" class=\"dataframe\">\n",
       "  <thead>\n",
       "    <tr style=\"text-align: right;\">\n",
       "      <th></th>\n",
       "      <th>datetime</th>\n",
       "      <th>f1</th>\n",
       "      <th>f1_boxcox</th>\n",
       "    </tr>\n",
       "  </thead>\n",
       "  <tbody>\n",
       "    <tr>\n",
       "      <th>0</th>\n",
       "      <td>1990-03-01 00:00:00</td>\n",
       "      <td>4356.0</td>\n",
       "      <td>22.649773</td>\n",
       "    </tr>\n",
       "    <tr>\n",
       "      <th>1</th>\n",
       "      <td>1990-03-01 00:01:00</td>\n",
       "      <td>1108.0</td>\n",
       "      <td>15.848275</td>\n",
       "    </tr>\n",
       "    <tr>\n",
       "      <th>2</th>\n",
       "      <td>1990-03-01 00:02:00</td>\n",
       "      <td>3753.0</td>\n",
       "      <td>21.812222</td>\n",
       "    </tr>\n",
       "    <tr>\n",
       "      <th>3</th>\n",
       "      <td>1990-03-01 00:03:00</td>\n",
       "      <td>27144.0</td>\n",
       "      <td>35.358548</td>\n",
       "    </tr>\n",
       "    <tr>\n",
       "      <th>4</th>\n",
       "      <td>1990-03-01 00:04:00</td>\n",
       "      <td>1408.0</td>\n",
       "      <td>16.903414</td>\n",
       "    </tr>\n",
       "  </tbody>\n",
       "</table>\n",
       "</div>"
      ],
      "text/plain": [
       "             datetime       f1  f1_boxcox\n",
       "0 1990-03-01 00:00:00   4356.0  22.649773\n",
       "1 1990-03-01 00:01:00   1108.0  15.848275\n",
       "2 1990-03-01 00:02:00   3753.0  21.812222\n",
       "3 1990-03-01 00:03:00  27144.0  35.358548\n",
       "4 1990-03-01 00:04:00   1408.0  16.903414"
      ]
     },
     "execution_count": 26,
     "metadata": {},
     "output_type": "execute_result"
    }
   ],
   "source": [
    "# pravimo novi skup podataka, dodajemo treću kolonu sa transformasanim vrednostima\n",
    "df_boxcox['f1_boxcox'] = df_boxcox_vals\n",
    "\n",
    "df_boxcox.head()"
   ]
  },
  {
   "cell_type": "code",
   "execution_count": 27,
   "id": "808aa22c",
   "metadata": {},
   "outputs": [
    {
     "data": {
      "image/png": "[encoded data removed]",
      "text/plain": [
       "<Figure size 1296x432 with 2 Axes>"
      ]
     },
     "metadata": {
      "needs_background": "light"
     },
     "output_type": "display_data"
    }
   ],
   "source": [
    "fig, axes = plt.subplots(1, 2, figsize=(18, 6))\n",
    "\n",
    "sns.histplot(df['f1'], ax=axes[0], kde=True)\n",
    "axes[0].set_title('Originalnih podaci')\n",
    "\n",
    "\n",
    "sns.histplot(df_boxcox['f1_boxcox'], ax=axes[1], kde=True)\n",
    "axes[1].set_title('Transformacija Box-Cox')\n",
    "\n",
    "plt.tight_layout()\n",
    "plt.show()"
   ]
  },
  {
   "cell_type": "code",
   "execution_count": 28,
   "id": "3e998f26",
   "metadata": {},
   "outputs": [
    {
     "data": {
      "text/plain": [
       "(28.87, 29.16, 0.29)"
      ]
     },
     "execution_count": 28,
     "metadata": {},
     "output_type": "execute_result"
    }
   ],
   "source": [
    "f1_boxcox_mean,f1_boxcox_median, f1_boxcox_diff = mean_median_diff(df_boxcox,'f1_boxcox')\n",
    "f1_boxcox_mean,f1_boxcox_median, f1_boxcox_diff"
   ]
  },
  {
   "cell_type": "code",
   "execution_count": 30,
   "id": "0a2b51ab",
   "metadata": {},
   "outputs": [
    {
     "name": "stdout",
     "output_type": "stream",
     "text": [
      "1.538480887364415\n"
     ]
    }
   ],
   "source": [
    "# racunamo asimetriju transformisanih podataka\n",
    "\n",
    "skew_boxcox = skew(df_boxcox['f1'], axis=0, bias=True)\n",
    "print(skew_boxcox)"
   ]
  },
  {
   "cell_type": "markdown",
   "id": "0f6b1320",
   "metadata": {},
   "source": [
    "**Zaključak:** Primenom Box-Cox transformacije, razlika izmedju medijane i srednje vrednosti je dosta mala, te možemo biti zadovoljni transformacijom. "
   ]
  },
  {
   "cell_type": "code",
   "execution_count": 31,
   "id": "f558ad09",
   "metadata": {},
   "outputs": [
    {
     "data": {
      "text/html": [
       "<div>\n",
       "<style scoped>\n",
       "    .dataframe tbody tr th:only-of-type {\n",
       "        vertical-align: middle;\n",
       "    }\n",
       "\n",
       "    .dataframe tbody tr th {\n",
       "        vertical-align: top;\n",
       "    }\n",
       "\n",
       "    .dataframe thead th {\n",
       "        text-align: right;\n",
       "    }\n",
       "</style>\n",
       "<table border=\"1\" class=\"dataframe\">\n",
       "  <thead>\n",
       "    <tr style=\"text-align: right;\">\n",
       "      <th></th>\n",
       "      <th>datetime</th>\n",
       "      <th>f1</th>\n",
       "      <th>f1_boxcox</th>\n",
       "      <th>f1_inversed</th>\n",
       "    </tr>\n",
       "  </thead>\n",
       "  <tbody>\n",
       "    <tr>\n",
       "      <th>0</th>\n",
       "      <td>1990-03-01 00:00:00</td>\n",
       "      <td>4356.0</td>\n",
       "      <td>22.649773</td>\n",
       "      <td>4356.0</td>\n",
       "    </tr>\n",
       "    <tr>\n",
       "      <th>1</th>\n",
       "      <td>1990-03-01 00:01:00</td>\n",
       "      <td>1108.0</td>\n",
       "      <td>15.848275</td>\n",
       "      <td>1108.0</td>\n",
       "    </tr>\n",
       "    <tr>\n",
       "      <th>2</th>\n",
       "      <td>1990-03-01 00:02:00</td>\n",
       "      <td>3753.0</td>\n",
       "      <td>21.812222</td>\n",
       "      <td>3753.0</td>\n",
       "    </tr>\n",
       "    <tr>\n",
       "      <th>3</th>\n",
       "      <td>1990-03-01 00:03:00</td>\n",
       "      <td>27144.0</td>\n",
       "      <td>35.358548</td>\n",
       "      <td>27144.0</td>\n",
       "    </tr>\n",
       "    <tr>\n",
       "      <th>4</th>\n",
       "      <td>1990-03-01 00:04:00</td>\n",
       "      <td>1408.0</td>\n",
       "      <td>16.903414</td>\n",
       "      <td>1408.0</td>\n",
       "    </tr>\n",
       "  </tbody>\n",
       "</table>\n",
       "</div>"
      ],
      "text/plain": [
       "             datetime       f1  f1_boxcox  f1_inversed\n",
       "0 1990-03-01 00:00:00   4356.0  22.649773       4356.0\n",
       "1 1990-03-01 00:01:00   1108.0  15.848275       1108.0\n",
       "2 1990-03-01 00:02:00   3753.0  21.812222       3753.0\n",
       "3 1990-03-01 00:03:00  27144.0  35.358548      27144.0\n",
       "4 1990-03-01 00:04:00   1408.0  16.903414       1408.0"
      ]
     },
     "execution_count": 31,
     "metadata": {},
     "output_type": "execute_result"
    }
   ],
   "source": [
    "# primenjujemo inverznu Box-Cox transformaciju\n",
    "\n",
    "inverse_vals = inv_boxcox(df_boxcox_vals, fitted_lambda)\n",
    "\n",
    "df_boxcox['f1_inversed'] = inverse_vals\n",
    "df_boxcox['f1_inversed'] = df_boxcox['f1_inversed'].apply(lambda x : x - 1e-10)\n",
    "\n",
    "df_boxcox.head()"
   ]
  },
  {
   "cell_type": "markdown",
   "id": "243ae0f3",
   "metadata": {},
   "source": [
    "### Yeo-Johnson transformacija\n",
    "\n",
    "For $\\lambda \\neq 0$ and $x \\geq 0$:\n",
    "$$\n",
    "y = \\frac{(|x|^\\lambda - 1)}{\\lambda}\n",
    "$$\n",
    "\n",
    "For $\\lambda = 0$ and $x \\geq 0$:\n",
    "$$\n",
    "y = \\log(|x|)\n",
    "$$\n",
    "\n",
    "For $\\lambda \\neq 0$ and $x < 0$:\n",
    "$$\n",
    "y = -\\frac{(|x|^\\lambda - 1)}{\\lambda}\n",
    "$$\n",
    "\n",
    "For $\\lambda = 0$ and $x < 0$:\n",
    "$$\n",
    "y = -\\log(|x|)\n",
    "$$\n",
    "\n",
    "\n",
    "Ova transformacija radi i sa pozitivnim i sa negativnim vrednostima"
   ]
  },
  {
   "cell_type": "code",
   "execution_count": 32,
   "id": "33a85405",
   "metadata": {},
   "outputs": [],
   "source": [
    "df_yeoj = df.copy()\n",
    "\n",
    "df_yeoj_vals, fitted_lambda_yeoj = stats.yeojohnson(df_yeoj['f1'])"
   ]
  },
  {
   "cell_type": "code",
   "execution_count": 33,
   "id": "47eb5805",
   "metadata": {},
   "outputs": [
    {
     "data": {
      "text/html": [
       "<div>\n",
       "<style scoped>\n",
       "    .dataframe tbody tr th:only-of-type {\n",
       "        vertical-align: middle;\n",
       "    }\n",
       "\n",
       "    .dataframe tbody tr th {\n",
       "        vertical-align: top;\n",
       "    }\n",
       "\n",
       "    .dataframe thead th {\n",
       "        text-align: right;\n",
       "    }\n",
       "</style>\n",
       "<table border=\"1\" class=\"dataframe\">\n",
       "  <thead>\n",
       "    <tr style=\"text-align: right;\">\n",
       "      <th></th>\n",
       "      <th>datetime</th>\n",
       "      <th>f1</th>\n",
       "      <th>f1_yeoj</th>\n",
       "    </tr>\n",
       "  </thead>\n",
       "  <tbody>\n",
       "    <tr>\n",
       "      <th>0</th>\n",
       "      <td>1990-03-01 00:00:00</td>\n",
       "      <td>4356.0</td>\n",
       "      <td>31.118467</td>\n",
       "    </tr>\n",
       "    <tr>\n",
       "      <th>1</th>\n",
       "      <td>1990-03-01 00:01:00</td>\n",
       "      <td>1108.0</td>\n",
       "      <td>20.485377</td>\n",
       "    </tr>\n",
       "    <tr>\n",
       "      <th>2</th>\n",
       "      <td>1990-03-01 00:02:00</td>\n",
       "      <td>3753.0</td>\n",
       "      <td>29.764701</td>\n",
       "    </tr>\n",
       "    <tr>\n",
       "      <th>3</th>\n",
       "      <td>1990-03-01 00:03:00</td>\n",
       "      <td>27144.0</td>\n",
       "      <td>52.954594</td>\n",
       "    </tr>\n",
       "    <tr>\n",
       "      <th>4</th>\n",
       "      <td>1990-03-01 00:04:00</td>\n",
       "      <td>1408.0</td>\n",
       "      <td>22.078234</td>\n",
       "    </tr>\n",
       "  </tbody>\n",
       "</table>\n",
       "</div>"
      ],
      "text/plain": [
       "             datetime       f1    f1_yeoj\n",
       "0 1990-03-01 00:00:00   4356.0  31.118467\n",
       "1 1990-03-01 00:01:00   1108.0  20.485377\n",
       "2 1990-03-01 00:02:00   3753.0  29.764701\n",
       "3 1990-03-01 00:03:00  27144.0  52.954594\n",
       "4 1990-03-01 00:04:00   1408.0  22.078234"
      ]
     },
     "execution_count": 33,
     "metadata": {},
     "output_type": "execute_result"
    }
   ],
   "source": [
    "df_yeoj['f1_yeoj'] = df_yeoj_vals\n",
    "\n",
    "df_yeoj.head()"
   ]
  },
  {
   "cell_type": "code",
   "execution_count": 34,
   "id": "0f0868a4",
   "metadata": {},
   "outputs": [
    {
     "data": {
      "image/png": "[encoded data removed]",
      "text/plain": [
       "<Figure size 1296x432 with 3 Axes>"
      ]
     },
     "metadata": {
      "needs_background": "light"
     },
     "output_type": "display_data"
    }
   ],
   "source": [
    "fig, axes = plt.subplots(1, 3, figsize=(18, 6))\n",
    "\n",
    "\n",
    "sns.histplot(df['f1'], ax=axes[0], kde=True)\n",
    "axes[0].set_title('Originalnih podaci')\n",
    "\n",
    "sns.histplot(df_boxcox['f1_boxcox'], ax=axes[1], kde=True)\n",
    "axes[1].set_title('Transformacija Box-Cox')\n",
    "\n",
    "sns.histplot(df_yeoj['f1_yeoj'], ax=axes[2], kde=True)\n",
    "axes[2].set_title('Transformacija Yeo-Johnson')\n",
    "\n",
    "plt.tight_layout()\n",
    "plt.show()"
   ]
  },
  {
   "cell_type": "code",
   "execution_count": 35,
   "id": "6a50dd49",
   "metadata": {},
   "outputs": [
    {
     "data": {
      "text/plain": [
       "(43.07, 42.02, 1.05)"
      ]
     },
     "execution_count": 35,
     "metadata": {},
     "output_type": "execute_result"
    }
   ],
   "source": [
    "f1_yeoj_mean,f1_yeoj_median, f1_yeoj_diff = mean_median_diff(df_yeoj,'f1_yeoj')\n",
    "f1_yeoj_mean,f1_yeoj_median, f1_yeoj_diff"
   ]
  },
  {
   "cell_type": "code",
   "execution_count": 36,
   "id": "ece1ba2d",
   "metadata": {},
   "outputs": [
    {
     "name": "stdout",
     "output_type": "stream",
     "text": [
      "1.538480887364415\n"
     ]
    }
   ],
   "source": [
    "# racunamo asimetriju transformisanih podataka\n",
    "\n",
    "skew_yeoj = skew(df_yeoj['f1'], axis=0, bias=True)\n",
    "print(skew_yeoj)"
   ]
  },
  {
   "cell_type": "markdown",
   "id": "9c9774f2",
   "metadata": {},
   "source": [
    "**Zaključak:** Primenom Yeo-Johnson transformacije, razlika izmedju medijane i srednje vrednosti je dosta mala, te možemo biti zadovoljni transformacijom. "
   ]
  },
  {
   "cell_type": "code",
   "execution_count": 39,
   "id": "fbcf653a",
   "metadata": {},
   "outputs": [
    {
     "data": {
      "text/html": [
       "<div>\n",
       "<style scoped>\n",
       "    .dataframe tbody tr th:only-of-type {\n",
       "        vertical-align: middle;\n",
       "    }\n",
       "\n",
       "    .dataframe tbody tr th {\n",
       "        vertical-align: top;\n",
       "    }\n",
       "\n",
       "    .dataframe thead th {\n",
       "        text-align: right;\n",
       "    }\n",
       "</style>\n",
       "<table border=\"1\" class=\"dataframe\">\n",
       "  <thead>\n",
       "    <tr style=\"text-align: right;\">\n",
       "      <th></th>\n",
       "      <th>datetime</th>\n",
       "      <th>f1</th>\n",
       "      <th>f1_yeoj</th>\n",
       "      <th>f1_inversed</th>\n",
       "    </tr>\n",
       "  </thead>\n",
       "  <tbody>\n",
       "    <tr>\n",
       "      <th>0</th>\n",
       "      <td>1990-03-01 00:00:00</td>\n",
       "      <td>4356.0</td>\n",
       "      <td>31.118467</td>\n",
       "      <td>4356.0</td>\n",
       "    </tr>\n",
       "    <tr>\n",
       "      <th>1</th>\n",
       "      <td>1990-03-01 00:01:00</td>\n",
       "      <td>1108.0</td>\n",
       "      <td>20.485377</td>\n",
       "      <td>1108.0</td>\n",
       "    </tr>\n",
       "    <tr>\n",
       "      <th>2</th>\n",
       "      <td>1990-03-01 00:02:00</td>\n",
       "      <td>3753.0</td>\n",
       "      <td>29.764701</td>\n",
       "      <td>3753.0</td>\n",
       "    </tr>\n",
       "    <tr>\n",
       "      <th>3</th>\n",
       "      <td>1990-03-01 00:03:00</td>\n",
       "      <td>27144.0</td>\n",
       "      <td>52.954594</td>\n",
       "      <td>27144.0</td>\n",
       "    </tr>\n",
       "    <tr>\n",
       "      <th>4</th>\n",
       "      <td>1990-03-01 00:04:00</td>\n",
       "      <td>1408.0</td>\n",
       "      <td>22.078234</td>\n",
       "      <td>1408.0</td>\n",
       "    </tr>\n",
       "  </tbody>\n",
       "</table>\n",
       "</div>"
      ],
      "text/plain": [
       "             datetime       f1    f1_yeoj  f1_inversed\n",
       "0 1990-03-01 00:00:00   4356.0  31.118467       4356.0\n",
       "1 1990-03-01 00:01:00   1108.0  20.485377       1108.0\n",
       "2 1990-03-01 00:02:00   3753.0  29.764701       3753.0\n",
       "3 1990-03-01 00:03:00  27144.0  52.954594      27144.0\n",
       "4 1990-03-01 00:04:00   1408.0  22.078234       1408.0"
      ]
     },
     "execution_count": 39,
     "metadata": {},
     "output_type": "execute_result"
    }
   ],
   "source": [
    "# Inverna Yeo-Johnson transformacija\n",
    "inverse_vals = inv_boxcox(df_yeoj_vals, fitted_lambda_yeoj)\n",
    "\n",
    "df_yeoj['f1_inversed'] = inverse_vals\n",
    "\n",
    "# Zbog dodavanja 1 u okviru algoritma transformacije, oduzimamo 1\n",
    "df_yeoj['f1_inversed'] = df_yeoj['f1_inversed'].apply(lambda x : x - 1)\n",
    "\n",
    "df_yeoj.head()\n"
   ]
  },
  {
   "cell_type": "markdown",
   "id": "d3d99676",
   "metadata": {},
   "source": [
    "### Poredimo razliku srednje vrednosti i medijane svake transformacije. \n",
    "Sto je razlika manja, transformacija više približava podatke normalnoj raspodeli."
   ]
  },
  {
   "cell_type": "code",
   "execution_count": 37,
   "id": "9e61a4dd",
   "metadata": {},
   "outputs": [
    {
     "name": "stdout",
     "output_type": "stream",
     "text": [
      "Minimalna vrednost:0.29\n"
     ]
    },
    {
     "data": {
      "text/html": [
       "<div>\n",
       "<style scoped>\n",
       "    .dataframe tbody tr th:only-of-type {\n",
       "        vertical-align: middle;\n",
       "    }\n",
       "\n",
       "    .dataframe tbody tr th {\n",
       "        vertical-align: top;\n",
       "    }\n",
       "\n",
       "    .dataframe thead th {\n",
       "        text-align: right;\n",
       "    }\n",
       "</style>\n",
       "<table border=\"1\" class=\"dataframe\">\n",
       "  <thead>\n",
       "    <tr style=\"text-align: right;\">\n",
       "      <th></th>\n",
       "      <th>Transformacija</th>\n",
       "      <th>Razlika</th>\n",
       "    </tr>\n",
       "  </thead>\n",
       "  <tbody>\n",
       "    <tr>\n",
       "      <th>0</th>\n",
       "      <td>Original</td>\n",
       "      <td>13342.37</td>\n",
       "    </tr>\n",
       "    <tr>\n",
       "      <th>1</th>\n",
       "      <td>Logaritamska</td>\n",
       "      <td>1.73</td>\n",
       "    </tr>\n",
       "    <tr>\n",
       "      <th>2</th>\n",
       "      <td>Inverzna</td>\n",
       "      <td>540933356.94</td>\n",
       "    </tr>\n",
       "    <tr>\n",
       "      <th>3</th>\n",
       "      <td>Kvadratni koren</td>\n",
       "      <td>21.59</td>\n",
       "    </tr>\n",
       "    <tr>\n",
       "      <th>4</th>\n",
       "      <td>Kubni koren</td>\n",
       "      <td>1.33</td>\n",
       "    </tr>\n",
       "    <tr>\n",
       "      <th>5</th>\n",
       "      <td>Box-Cox</td>\n",
       "      <td>0.29</td>\n",
       "    </tr>\n",
       "    <tr>\n",
       "      <th>6</th>\n",
       "      <td>Yeo-Johnson</td>\n",
       "      <td>1.05</td>\n",
       "    </tr>\n",
       "  </tbody>\n",
       "</table>\n",
       "</div>"
      ],
      "text/plain": [
       "    Transformacija      Razlika\n",
       "0         Original     13342.37\n",
       "1     Logaritamska         1.73\n",
       "2         Inverzna 540933356.94\n",
       "3  Kvadratni koren        21.59\n",
       "4      Kubni koren         1.33\n",
       "5          Box-Cox         0.29\n",
       "6      Yeo-Johnson         1.05"
      ]
     },
     "execution_count": 37,
     "metadata": {},
     "output_type": "execute_result"
    }
   ],
   "source": [
    "transformations = ['Original', 'Logaritamska', 'Inverzna', 'Kvadratni koren', 'Kubni koren', 'Box-Cox', 'Yeo-Johnson']\n",
    "diff = [f1_diff, f1_log_diff, f1_inverse_diff, f1_sqroot_diff, f1_cuberoot_diff, f1_boxcox_diff, f1_yeoj_diff]\n",
    "\n",
    "df = pd.DataFrame({\n",
    "    'Transformacija': transformations,\n",
    "    'Razlika': diff\n",
    "})\n",
    "\n",
    "pd.options.display.float_format = '{:.2f}'.format\n",
    "\n",
    "min_value = df['Razlika'].min()\n",
    "\n",
    "print('Minimalna vrednost:{}'.format(min_value))\n",
    "\n",
    "df"
   ]
  },
  {
   "cell_type": "markdown",
   "id": "f6f4c424",
   "metadata": {},
   "source": [
    "Najmanja vrednost je 0.29 i odgovara transformaciji: Box-Cox, te zaključujemo da za ovaj skup podataka Box-Cox transformacija najviše odgovara."
   ]
  },
  {
   "cell_type": "code",
   "execution_count": 40,
   "id": "9788c3ad",
   "metadata": {},
   "outputs": [
    {
     "data": {
      "text/html": [
       "<div>\n",
       "<style scoped>\n",
       "    .dataframe tbody tr th:only-of-type {\n",
       "        vertical-align: middle;\n",
       "    }\n",
       "\n",
       "    .dataframe tbody tr th {\n",
       "        vertical-align: top;\n",
       "    }\n",
       "\n",
       "    .dataframe thead th {\n",
       "        text-align: right;\n",
       "    }\n",
       "</style>\n",
       "<table border=\"1\" class=\"dataframe\">\n",
       "  <thead>\n",
       "    <tr style=\"text-align: right;\">\n",
       "      <th></th>\n",
       "      <th>Transformacija</th>\n",
       "      <th>Asimetrija</th>\n",
       "    </tr>\n",
       "  </thead>\n",
       "  <tbody>\n",
       "    <tr>\n",
       "      <th>0</th>\n",
       "      <td>Original</td>\n",
       "      <td>1.54</td>\n",
       "    </tr>\n",
       "    <tr>\n",
       "      <th>1</th>\n",
       "      <td>Logaritamska</td>\n",
       "      <td>-3.72</td>\n",
       "    </tr>\n",
       "    <tr>\n",
       "      <th>2</th>\n",
       "      <td>Inverzna</td>\n",
       "      <td>3.94</td>\n",
       "    </tr>\n",
       "    <tr>\n",
       "      <th>3</th>\n",
       "      <td>Kvadratni koren</td>\n",
       "      <td>0.70</td>\n",
       "    </tr>\n",
       "    <tr>\n",
       "      <th>4</th>\n",
       "      <td>Kubni koren</td>\n",
       "      <td>0.14</td>\n",
       "    </tr>\n",
       "    <tr>\n",
       "      <th>5</th>\n",
       "      <td>Box-Cox</td>\n",
       "      <td>1.54</td>\n",
       "    </tr>\n",
       "    <tr>\n",
       "      <th>6</th>\n",
       "      <td>Yeo-Johnson</td>\n",
       "      <td>1.54</td>\n",
       "    </tr>\n",
       "  </tbody>\n",
       "</table>\n",
       "</div>"
      ],
      "text/plain": [
       "    Transformacija  Asimetrija\n",
       "0         Original        1.54\n",
       "1     Logaritamska       -3.72\n",
       "2         Inverzna        3.94\n",
       "3  Kvadratni koren        0.70\n",
       "4      Kubni koren        0.14\n",
       "5          Box-Cox        1.54\n",
       "6      Yeo-Johnson        1.54"
      ]
     },
     "execution_count": 40,
     "metadata": {},
     "output_type": "execute_result"
    }
   ],
   "source": [
    "transformations = ['Original', 'Logaritamska', 'Inverzna', 'Kvadratni koren', 'Kubni koren', 'Box-Cox', 'Yeo-Johnson']\n",
    "skews = [skew_orig, skew_log, skew_inv, skew_sqroot, skew_cuberoot, skew_boxcox, skew_yeoj]\n",
    "\n",
    "df_skews = pd.DataFrame({\n",
    "    'Transformacija': transformations,\n",
    "    'Asimetrija': skews\n",
    "})\n",
    "\n",
    "\n",
    "df_skews"
   ]
  },
  {
   "cell_type": "code",
   "execution_count": null,
   "id": "4b0cae90",
   "metadata": {},
   "outputs": [],
   "source": []
  }
 ],
 "metadata": {
  "kernelspec": {
   "display_name": "Python 3 (ipykernel)",
   "language": "python",
   "name": "python3"
  },
  "language_info": {
   "codemirror_mode": {
    "name": "ipython",
    "version": 3
   },
   "file_extension": ".py",
   "mimetype": "text/x-python",
   "name": "python",
   "nbconvert_exporter": "python",
   "pygments_lexer": "ipython3",
   "version": "3.8.10"
  }
 },
 "nbformat": 4,
 "nbformat_minor": 5
}
